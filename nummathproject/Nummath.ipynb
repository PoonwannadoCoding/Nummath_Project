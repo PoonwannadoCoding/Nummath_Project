{
 "cells": [
  {
   "cell_type": "code",
   "execution_count": 11,
   "metadata": {},
   "outputs": [],
   "source": [
    "import cv2\n",
    "import os\n",
    "import time\n",
    "import pygame\n",
    "from PIL import Image\n",
    "ASCII_CHARS = [ '#', '?', '%', '.', 'S', '+', '.', '*', ':', ',', '@']"
   ]
  },
  {
   "cell_type": "code",
   "execution_count": 12,
   "metadata": {},
   "outputs": [],
   "source": [
    "getvideo = cv2.VideoCapture(\"E:\\\\nummathproject\\\\video\\\\Ricardo.mp4\")\n"
   ]
  },
  {
   "cell_type": "code",
   "execution_count": 13,
   "metadata": {},
   "outputs": [],
   "source": [
    "try:\n",
    "    if not os.path.exists('data'):\n",
    "        os.makedirs('data')\n",
    "\n",
    "except OSError:\n",
    "    print('Error: Creating directory of data')\n"
   ]
  },
  {
   "cell_type": "code",
   "execution_count": 14,
   "metadata": {},
   "outputs": [],
   "source": [
    "currentFrame = 0\n",
    "\n",
    "while(True):\n",
    "    ret,frame = getvideo.read()\n",
    "\n",
    "    if ret:\n",
    "        name = './data/frame' + str(currentFrame) + '.jpg'\n",
    "    \n",
    "        cv2.imwrite(name, frame)\n",
    "\n",
    "        currentFrame += 1\n",
    "    else:\n",
    "        break\n",
    "\n",
    "getvideo.release()\n",
    "cv2.destroyAllWindows()"
   ]
  },
  {
   "cell_type": "code",
   "execution_count": 21,
   "metadata": {},
   "outputs": [],
   "source": [
    "def resize_image(image, new_width=100):\n",
    "    (input_width, input_height) = image.size\n",
    "    ratio = input_height/float(input_width)\n",
    "    changed_height = int(ratio*new_width)\n",
    "    changed_image = image.resize((new_width,changed_height))\n",
    "    return changed_image\n"
   ]
  },
  {
   "cell_type": "code",
   "execution_count": 22,
   "metadata": {},
   "outputs": [],
   "source": [
    "def makeGrey(image):\n",
    "    return image.convert('L')"
   ]
  },
  {
   "cell_type": "code",
   "execution_count": 23,
   "metadata": {},
   "outputs": [],
   "source": [
    "def pixelToAscii(image):\n",
    "    pixel_in_image = list(image.getdata())\n",
    "    pixel_to_chars = [ASCII_CHARS[pixel_value//25] for pixel_value in pixel_in_image]\n",
    "    return \"\".join(pixel_to_chars)"
   ]
  },
  {
   "cell_type": "code",
   "execution_count": 24,
   "metadata": {},
   "outputs": [],
   "source": [
    "def image_to_ascii(image, new_width = 100):\n",
    "    image = resize_image(image)\n",
    "    image = makeGrey(image)\n",
    "    pixelsToChars = pixelToAscii(image)\n",
    "    lenPixelToChar = len(pixelsToChars)\n",
    "    imageAscii = [pixelsToChars[index: index + new_width] for index in range(0, lenPixelToChar, new_width)]\n",
    "    return \"\\n\".join(imageAscii)\n"
   ]
  },
  {
   "cell_type": "code",
   "execution_count": 25,
   "metadata": {},
   "outputs": [],
   "source": [
    "def convertImage(path):\n",
    "    frame = 0\n",
    "\n",
    "    for x in os.listdir(path):\n",
    "        if '.jpg' in x:\n",
    "        \n",
    "            try:\n",
    "                img = Image.open(path+'\\\\'+x)\n",
    "                \n",
    "            except Exception as e:\n",
    "                print(path+'\\\\'+x, \"Unable to find image\")\n",
    "                print(e)\n",
    "    \n",
    "            imageAscii = image_to_ascii(img)\n",
    "    \n",
    "            f = open('E:\\\\nummathproject\\\\Text\\\\'+x+'.txt','w')\n",
    "            frame += 1\n",
    "            f.write(imageAscii)\n",
    "            \n",
    "            f.close()\n",
    "\n",
    "image_path = \"E:\\\\nummathproject\\\\data\"\n",
    "convertImage(image_path)\n"
   ]
  },
  {
   "cell_type": "code",
   "execution_count": 26,
   "metadata": {},
   "outputs": [
    {
     "name": "stdout",
     "output_type": "stream",
     "text": [
      "['E:\\\\nummathproject\\\\Text\\\\frame0.jpg.txt', 'E:\\\\nummathproject\\\\Text\\\\frame1.jpg.txt', 'E:\\\\nummathproject\\\\Text\\\\frame10.jpg.txt', 'E:\\\\nummathproject\\\\Text\\\\frame100.jpg.txt', 'E:\\\\nummathproject\\\\Text\\\\frame101.jpg.txt', 'E:\\\\nummathproject\\\\Text\\\\frame102.jpg.txt', 'E:\\\\nummathproject\\\\Text\\\\frame103.jpg.txt', 'E:\\\\nummathproject\\\\Text\\\\frame104.jpg.txt', 'E:\\\\nummathproject\\\\Text\\\\frame105.jpg.txt', 'E:\\\\nummathproject\\\\Text\\\\frame106.jpg.txt', 'E:\\\\nummathproject\\\\Text\\\\frame107.jpg.txt', 'E:\\\\nummathproject\\\\Text\\\\frame108.jpg.txt', 'E:\\\\nummathproject\\\\Text\\\\frame109.jpg.txt', 'E:\\\\nummathproject\\\\Text\\\\frame11.jpg.txt', 'E:\\\\nummathproject\\\\Text\\\\frame110.jpg.txt', 'E:\\\\nummathproject\\\\Text\\\\frame111.jpg.txt', 'E:\\\\nummathproject\\\\Text\\\\frame112.jpg.txt', 'E:\\\\nummathproject\\\\Text\\\\frame113.jpg.txt', 'E:\\\\nummathproject\\\\Text\\\\frame114.jpg.txt', 'E:\\\\nummathproject\\\\Text\\\\frame115.jpg.txt', 'E:\\\\nummathproject\\\\Text\\\\frame116.jpg.txt', 'E:\\\\nummathproject\\\\Text\\\\frame117.jpg.txt', 'E:\\\\nummathproject\\\\Text\\\\frame118.jpg.txt', 'E:\\\\nummathproject\\\\Text\\\\frame119.jpg.txt', 'E:\\\\nummathproject\\\\Text\\\\frame12.jpg.txt', 'E:\\\\nummathproject\\\\Text\\\\frame120.jpg.txt', 'E:\\\\nummathproject\\\\Text\\\\frame121.jpg.txt', 'E:\\\\nummathproject\\\\Text\\\\frame122.jpg.txt', 'E:\\\\nummathproject\\\\Text\\\\frame123.jpg.txt', 'E:\\\\nummathproject\\\\Text\\\\frame124.jpg.txt', 'E:\\\\nummathproject\\\\Text\\\\frame125.jpg.txt', 'E:\\\\nummathproject\\\\Text\\\\frame126.jpg.txt', 'E:\\\\nummathproject\\\\Text\\\\frame127.jpg.txt', 'E:\\\\nummathproject\\\\Text\\\\frame128.jpg.txt', 'E:\\\\nummathproject\\\\Text\\\\frame129.jpg.txt', 'E:\\\\nummathproject\\\\Text\\\\frame13.jpg.txt', 'E:\\\\nummathproject\\\\Text\\\\frame130.jpg.txt', 'E:\\\\nummathproject\\\\Text\\\\frame131.jpg.txt', 'E:\\\\nummathproject\\\\Text\\\\frame132.jpg.txt', 'E:\\\\nummathproject\\\\Text\\\\frame133.jpg.txt', 'E:\\\\nummathproject\\\\Text\\\\frame134.jpg.txt', 'E:\\\\nummathproject\\\\Text\\\\frame135.jpg.txt', 'E:\\\\nummathproject\\\\Text\\\\frame136.jpg.txt', 'E:\\\\nummathproject\\\\Text\\\\frame137.jpg.txt', 'E:\\\\nummathproject\\\\Text\\\\frame138.jpg.txt', 'E:\\\\nummathproject\\\\Text\\\\frame139.jpg.txt', 'E:\\\\nummathproject\\\\Text\\\\frame14.jpg.txt', 'E:\\\\nummathproject\\\\Text\\\\frame140.jpg.txt', 'E:\\\\nummathproject\\\\Text\\\\frame141.jpg.txt', 'E:\\\\nummathproject\\\\Text\\\\frame142.jpg.txt', 'E:\\\\nummathproject\\\\Text\\\\frame143.jpg.txt', 'E:\\\\nummathproject\\\\Text\\\\frame144.jpg.txt', 'E:\\\\nummathproject\\\\Text\\\\frame145.jpg.txt', 'E:\\\\nummathproject\\\\Text\\\\frame146.jpg.txt', 'E:\\\\nummathproject\\\\Text\\\\frame147.jpg.txt', 'E:\\\\nummathproject\\\\Text\\\\frame148.jpg.txt', 'E:\\\\nummathproject\\\\Text\\\\frame149.jpg.txt', 'E:\\\\nummathproject\\\\Text\\\\frame15.jpg.txt', 'E:\\\\nummathproject\\\\Text\\\\frame150.jpg.txt', 'E:\\\\nummathproject\\\\Text\\\\frame151.jpg.txt', 'E:\\\\nummathproject\\\\Text\\\\frame152.jpg.txt', 'E:\\\\nummathproject\\\\Text\\\\frame153.jpg.txt', 'E:\\\\nummathproject\\\\Text\\\\frame154.jpg.txt', 'E:\\\\nummathproject\\\\Text\\\\frame155.jpg.txt', 'E:\\\\nummathproject\\\\Text\\\\frame156.jpg.txt', 'E:\\\\nummathproject\\\\Text\\\\frame157.jpg.txt', 'E:\\\\nummathproject\\\\Text\\\\frame158.jpg.txt', 'E:\\\\nummathproject\\\\Text\\\\frame159.jpg.txt', 'E:\\\\nummathproject\\\\Text\\\\frame16.jpg.txt', 'E:\\\\nummathproject\\\\Text\\\\frame160.jpg.txt', 'E:\\\\nummathproject\\\\Text\\\\frame161.jpg.txt', 'E:\\\\nummathproject\\\\Text\\\\frame162.jpg.txt', 'E:\\\\nummathproject\\\\Text\\\\frame163.jpg.txt', 'E:\\\\nummathproject\\\\Text\\\\frame164.jpg.txt', 'E:\\\\nummathproject\\\\Text\\\\frame165.jpg.txt', 'E:\\\\nummathproject\\\\Text\\\\frame166.jpg.txt', 'E:\\\\nummathproject\\\\Text\\\\frame167.jpg.txt', 'E:\\\\nummathproject\\\\Text\\\\frame168.jpg.txt', 'E:\\\\nummathproject\\\\Text\\\\frame169.jpg.txt', 'E:\\\\nummathproject\\\\Text\\\\frame17.jpg.txt', 'E:\\\\nummathproject\\\\Text\\\\frame170.jpg.txt', 'E:\\\\nummathproject\\\\Text\\\\frame171.jpg.txt', 'E:\\\\nummathproject\\\\Text\\\\frame172.jpg.txt', 'E:\\\\nummathproject\\\\Text\\\\frame173.jpg.txt', 'E:\\\\nummathproject\\\\Text\\\\frame174.jpg.txt', 'E:\\\\nummathproject\\\\Text\\\\frame175.jpg.txt', 'E:\\\\nummathproject\\\\Text\\\\frame176.jpg.txt', 'E:\\\\nummathproject\\\\Text\\\\frame177.jpg.txt', 'E:\\\\nummathproject\\\\Text\\\\frame178.jpg.txt', 'E:\\\\nummathproject\\\\Text\\\\frame179.jpg.txt', 'E:\\\\nummathproject\\\\Text\\\\frame18.jpg.txt', 'E:\\\\nummathproject\\\\Text\\\\frame180.jpg.txt', 'E:\\\\nummathproject\\\\Text\\\\frame181.jpg.txt', 'E:\\\\nummathproject\\\\Text\\\\frame182.jpg.txt', 'E:\\\\nummathproject\\\\Text\\\\frame183.jpg.txt', 'E:\\\\nummathproject\\\\Text\\\\frame184.jpg.txt', 'E:\\\\nummathproject\\\\Text\\\\frame185.jpg.txt', 'E:\\\\nummathproject\\\\Text\\\\frame186.jpg.txt', 'E:\\\\nummathproject\\\\Text\\\\frame187.jpg.txt', 'E:\\\\nummathproject\\\\Text\\\\frame188.jpg.txt', 'E:\\\\nummathproject\\\\Text\\\\frame189.jpg.txt', 'E:\\\\nummathproject\\\\Text\\\\frame19.jpg.txt', 'E:\\\\nummathproject\\\\Text\\\\frame190.jpg.txt', 'E:\\\\nummathproject\\\\Text\\\\frame191.jpg.txt', 'E:\\\\nummathproject\\\\Text\\\\frame192.jpg.txt', 'E:\\\\nummathproject\\\\Text\\\\frame193.jpg.txt', 'E:\\\\nummathproject\\\\Text\\\\frame194.jpg.txt', 'E:\\\\nummathproject\\\\Text\\\\frame195.jpg.txt', 'E:\\\\nummathproject\\\\Text\\\\frame196.jpg.txt', 'E:\\\\nummathproject\\\\Text\\\\frame197.jpg.txt', 'E:\\\\nummathproject\\\\Text\\\\frame198.jpg.txt', 'E:\\\\nummathproject\\\\Text\\\\frame199.jpg.txt', 'E:\\\\nummathproject\\\\Text\\\\frame2.jpg.txt', 'E:\\\\nummathproject\\\\Text\\\\frame20.jpg.txt', 'E:\\\\nummathproject\\\\Text\\\\frame200.jpg.txt', 'E:\\\\nummathproject\\\\Text\\\\frame201.jpg.txt', 'E:\\\\nummathproject\\\\Text\\\\frame202.jpg.txt', 'E:\\\\nummathproject\\\\Text\\\\frame203.jpg.txt', 'E:\\\\nummathproject\\\\Text\\\\frame204.jpg.txt', 'E:\\\\nummathproject\\\\Text\\\\frame205.jpg.txt', 'E:\\\\nummathproject\\\\Text\\\\frame206.jpg.txt', 'E:\\\\nummathproject\\\\Text\\\\frame207.jpg.txt', 'E:\\\\nummathproject\\\\Text\\\\frame208.jpg.txt', 'E:\\\\nummathproject\\\\Text\\\\frame209.jpg.txt', 'E:\\\\nummathproject\\\\Text\\\\frame21.jpg.txt', 'E:\\\\nummathproject\\\\Text\\\\frame210.jpg.txt', 'E:\\\\nummathproject\\\\Text\\\\frame211.jpg.txt', 'E:\\\\nummathproject\\\\Text\\\\frame212.jpg.txt', 'E:\\\\nummathproject\\\\Text\\\\frame213.jpg.txt', 'E:\\\\nummathproject\\\\Text\\\\frame214.jpg.txt', 'E:\\\\nummathproject\\\\Text\\\\frame215.jpg.txt', 'E:\\\\nummathproject\\\\Text\\\\frame216.jpg.txt', 'E:\\\\nummathproject\\\\Text\\\\frame217.jpg.txt', 'E:\\\\nummathproject\\\\Text\\\\frame218.jpg.txt', 'E:\\\\nummathproject\\\\Text\\\\frame219.jpg.txt', 'E:\\\\nummathproject\\\\Text\\\\frame22.jpg.txt', 'E:\\\\nummathproject\\\\Text\\\\frame220.jpg.txt', 'E:\\\\nummathproject\\\\Text\\\\frame221.jpg.txt', 'E:\\\\nummathproject\\\\Text\\\\frame222.jpg.txt', 'E:\\\\nummathproject\\\\Text\\\\frame223.jpg.txt', 'E:\\\\nummathproject\\\\Text\\\\frame224.jpg.txt', 'E:\\\\nummathproject\\\\Text\\\\frame225.jpg.txt', 'E:\\\\nummathproject\\\\Text\\\\frame226.jpg.txt', 'E:\\\\nummathproject\\\\Text\\\\frame227.jpg.txt', 'E:\\\\nummathproject\\\\Text\\\\frame228.jpg.txt', 'E:\\\\nummathproject\\\\Text\\\\frame229.jpg.txt', 'E:\\\\nummathproject\\\\Text\\\\frame23.jpg.txt', 'E:\\\\nummathproject\\\\Text\\\\frame230.jpg.txt', 'E:\\\\nummathproject\\\\Text\\\\frame231.jpg.txt', 'E:\\\\nummathproject\\\\Text\\\\frame232.jpg.txt', 'E:\\\\nummathproject\\\\Text\\\\frame233.jpg.txt', 'E:\\\\nummathproject\\\\Text\\\\frame234.jpg.txt', 'E:\\\\nummathproject\\\\Text\\\\frame235.jpg.txt', 'E:\\\\nummathproject\\\\Text\\\\frame236.jpg.txt', 'E:\\\\nummathproject\\\\Text\\\\frame237.jpg.txt', 'E:\\\\nummathproject\\\\Text\\\\frame238.jpg.txt', 'E:\\\\nummathproject\\\\Text\\\\frame239.jpg.txt', 'E:\\\\nummathproject\\\\Text\\\\frame24.jpg.txt', 'E:\\\\nummathproject\\\\Text\\\\frame240.jpg.txt', 'E:\\\\nummathproject\\\\Text\\\\frame241.jpg.txt', 'E:\\\\nummathproject\\\\Text\\\\frame242.jpg.txt', 'E:\\\\nummathproject\\\\Text\\\\frame243.jpg.txt', 'E:\\\\nummathproject\\\\Text\\\\frame244.jpg.txt', 'E:\\\\nummathproject\\\\Text\\\\frame245.jpg.txt', 'E:\\\\nummathproject\\\\Text\\\\frame246.jpg.txt', 'E:\\\\nummathproject\\\\Text\\\\frame247.jpg.txt', 'E:\\\\nummathproject\\\\Text\\\\frame248.jpg.txt', 'E:\\\\nummathproject\\\\Text\\\\frame249.jpg.txt', 'E:\\\\nummathproject\\\\Text\\\\frame25.jpg.txt', 'E:\\\\nummathproject\\\\Text\\\\frame250.jpg.txt', 'E:\\\\nummathproject\\\\Text\\\\frame251.jpg.txt', 'E:\\\\nummathproject\\\\Text\\\\frame252.jpg.txt', 'E:\\\\nummathproject\\\\Text\\\\frame253.jpg.txt', 'E:\\\\nummathproject\\\\Text\\\\frame254.jpg.txt', 'E:\\\\nummathproject\\\\Text\\\\frame255.jpg.txt', 'E:\\\\nummathproject\\\\Text\\\\frame256.jpg.txt', 'E:\\\\nummathproject\\\\Text\\\\frame257.jpg.txt', 'E:\\\\nummathproject\\\\Text\\\\frame258.jpg.txt', 'E:\\\\nummathproject\\\\Text\\\\frame259.jpg.txt', 'E:\\\\nummathproject\\\\Text\\\\frame26.jpg.txt', 'E:\\\\nummathproject\\\\Text\\\\frame260.jpg.txt', 'E:\\\\nummathproject\\\\Text\\\\frame261.jpg.txt', 'E:\\\\nummathproject\\\\Text\\\\frame262.jpg.txt', 'E:\\\\nummathproject\\\\Text\\\\frame263.jpg.txt', 'E:\\\\nummathproject\\\\Text\\\\frame264.jpg.txt', 'E:\\\\nummathproject\\\\Text\\\\frame265.jpg.txt', 'E:\\\\nummathproject\\\\Text\\\\frame266.jpg.txt', 'E:\\\\nummathproject\\\\Text\\\\frame267.jpg.txt', 'E:\\\\nummathproject\\\\Text\\\\frame268.jpg.txt', 'E:\\\\nummathproject\\\\Text\\\\frame269.jpg.txt', 'E:\\\\nummathproject\\\\Text\\\\frame27.jpg.txt', 'E:\\\\nummathproject\\\\Text\\\\frame270.jpg.txt', 'E:\\\\nummathproject\\\\Text\\\\frame271.jpg.txt', 'E:\\\\nummathproject\\\\Text\\\\frame272.jpg.txt', 'E:\\\\nummathproject\\\\Text\\\\frame273.jpg.txt', 'E:\\\\nummathproject\\\\Text\\\\frame274.jpg.txt', 'E:\\\\nummathproject\\\\Text\\\\frame275.jpg.txt', 'E:\\\\nummathproject\\\\Text\\\\frame276.jpg.txt', 'E:\\\\nummathproject\\\\Text\\\\frame277.jpg.txt', 'E:\\\\nummathproject\\\\Text\\\\frame278.jpg.txt', 'E:\\\\nummathproject\\\\Text\\\\frame279.jpg.txt', 'E:\\\\nummathproject\\\\Text\\\\frame28.jpg.txt', 'E:\\\\nummathproject\\\\Text\\\\frame280.jpg.txt', 'E:\\\\nummathproject\\\\Text\\\\frame281.jpg.txt', 'E:\\\\nummathproject\\\\Text\\\\frame282.jpg.txt', 'E:\\\\nummathproject\\\\Text\\\\frame283.jpg.txt', 'E:\\\\nummathproject\\\\Text\\\\frame284.jpg.txt', 'E:\\\\nummathproject\\\\Text\\\\frame285.jpg.txt', 'E:\\\\nummathproject\\\\Text\\\\frame286.jpg.txt', 'E:\\\\nummathproject\\\\Text\\\\frame287.jpg.txt', 'E:\\\\nummathproject\\\\Text\\\\frame288.jpg.txt', 'E:\\\\nummathproject\\\\Text\\\\frame289.jpg.txt', 'E:\\\\nummathproject\\\\Text\\\\frame29.jpg.txt', 'E:\\\\nummathproject\\\\Text\\\\frame290.jpg.txt', 'E:\\\\nummathproject\\\\Text\\\\frame291.jpg.txt', 'E:\\\\nummathproject\\\\Text\\\\frame292.jpg.txt', 'E:\\\\nummathproject\\\\Text\\\\frame293.jpg.txt', 'E:\\\\nummathproject\\\\Text\\\\frame294.jpg.txt', 'E:\\\\nummathproject\\\\Text\\\\frame295.jpg.txt', 'E:\\\\nummathproject\\\\Text\\\\frame296.jpg.txt', 'E:\\\\nummathproject\\\\Text\\\\frame297.jpg.txt', 'E:\\\\nummathproject\\\\Text\\\\frame298.jpg.txt', 'E:\\\\nummathproject\\\\Text\\\\frame299.jpg.txt', 'E:\\\\nummathproject\\\\Text\\\\frame3.jpg.txt', 'E:\\\\nummathproject\\\\Text\\\\frame30.jpg.txt', 'E:\\\\nummathproject\\\\Text\\\\frame300.jpg.txt', 'E:\\\\nummathproject\\\\Text\\\\frame301.jpg.txt', 'E:\\\\nummathproject\\\\Text\\\\frame302.jpg.txt', 'E:\\\\nummathproject\\\\Text\\\\frame303.jpg.txt', 'E:\\\\nummathproject\\\\Text\\\\frame304.jpg.txt', 'E:\\\\nummathproject\\\\Text\\\\frame305.jpg.txt', 'E:\\\\nummathproject\\\\Text\\\\frame306.jpg.txt', 'E:\\\\nummathproject\\\\Text\\\\frame307.jpg.txt', 'E:\\\\nummathproject\\\\Text\\\\frame308.jpg.txt', 'E:\\\\nummathproject\\\\Text\\\\frame309.jpg.txt', 'E:\\\\nummathproject\\\\Text\\\\frame31.jpg.txt', 'E:\\\\nummathproject\\\\Text\\\\frame310.jpg.txt', 'E:\\\\nummathproject\\\\Text\\\\frame311.jpg.txt', 'E:\\\\nummathproject\\\\Text\\\\frame312.jpg.txt', 'E:\\\\nummathproject\\\\Text\\\\frame313.jpg.txt', 'E:\\\\nummathproject\\\\Text\\\\frame314.jpg.txt', 'E:\\\\nummathproject\\\\Text\\\\frame315.jpg.txt', 'E:\\\\nummathproject\\\\Text\\\\frame316.jpg.txt', 'E:\\\\nummathproject\\\\Text\\\\frame317.jpg.txt', 'E:\\\\nummathproject\\\\Text\\\\frame318.jpg.txt', 'E:\\\\nummathproject\\\\Text\\\\frame319.jpg.txt', 'E:\\\\nummathproject\\\\Text\\\\frame32.jpg.txt', 'E:\\\\nummathproject\\\\Text\\\\frame320.jpg.txt', 'E:\\\\nummathproject\\\\Text\\\\frame321.jpg.txt', 'E:\\\\nummathproject\\\\Text\\\\frame322.jpg.txt', 'E:\\\\nummathproject\\\\Text\\\\frame323.jpg.txt', 'E:\\\\nummathproject\\\\Text\\\\frame324.jpg.txt', 'E:\\\\nummathproject\\\\Text\\\\frame325.jpg.txt', 'E:\\\\nummathproject\\\\Text\\\\frame326.jpg.txt', 'E:\\\\nummathproject\\\\Text\\\\frame327.jpg.txt', 'E:\\\\nummathproject\\\\Text\\\\frame328.jpg.txt', 'E:\\\\nummathproject\\\\Text\\\\frame329.jpg.txt', 'E:\\\\nummathproject\\\\Text\\\\frame33.jpg.txt', 'E:\\\\nummathproject\\\\Text\\\\frame330.jpg.txt', 'E:\\\\nummathproject\\\\Text\\\\frame331.jpg.txt', 'E:\\\\nummathproject\\\\Text\\\\frame332.jpg.txt', 'E:\\\\nummathproject\\\\Text\\\\frame333.jpg.txt', 'E:\\\\nummathproject\\\\Text\\\\frame334.jpg.txt', 'E:\\\\nummathproject\\\\Text\\\\frame335.jpg.txt', 'E:\\\\nummathproject\\\\Text\\\\frame336.jpg.txt', 'E:\\\\nummathproject\\\\Text\\\\frame337.jpg.txt', 'E:\\\\nummathproject\\\\Text\\\\frame338.jpg.txt', 'E:\\\\nummathproject\\\\Text\\\\frame339.jpg.txt', 'E:\\\\nummathproject\\\\Text\\\\frame34.jpg.txt', 'E:\\\\nummathproject\\\\Text\\\\frame340.jpg.txt', 'E:\\\\nummathproject\\\\Text\\\\frame35.jpg.txt', 'E:\\\\nummathproject\\\\Text\\\\frame36.jpg.txt', 'E:\\\\nummathproject\\\\Text\\\\frame37.jpg.txt', 'E:\\\\nummathproject\\\\Text\\\\frame38.jpg.txt', 'E:\\\\nummathproject\\\\Text\\\\frame39.jpg.txt', 'E:\\\\nummathproject\\\\Text\\\\frame4.jpg.txt', 'E:\\\\nummathproject\\\\Text\\\\frame40.jpg.txt', 'E:\\\\nummathproject\\\\Text\\\\frame41.jpg.txt', 'E:\\\\nummathproject\\\\Text\\\\frame42.jpg.txt', 'E:\\\\nummathproject\\\\Text\\\\frame43.jpg.txt', 'E:\\\\nummathproject\\\\Text\\\\frame44.jpg.txt', 'E:\\\\nummathproject\\\\Text\\\\frame45.jpg.txt', 'E:\\\\nummathproject\\\\Text\\\\frame46.jpg.txt', 'E:\\\\nummathproject\\\\Text\\\\frame47.jpg.txt', 'E:\\\\nummathproject\\\\Text\\\\frame48.jpg.txt', 'E:\\\\nummathproject\\\\Text\\\\frame49.jpg.txt', 'E:\\\\nummathproject\\\\Text\\\\frame5.jpg.txt', 'E:\\\\nummathproject\\\\Text\\\\frame50.jpg.txt', 'E:\\\\nummathproject\\\\Text\\\\frame51.jpg.txt', 'E:\\\\nummathproject\\\\Text\\\\frame52.jpg.txt', 'E:\\\\nummathproject\\\\Text\\\\frame53.jpg.txt', 'E:\\\\nummathproject\\\\Text\\\\frame54.jpg.txt', 'E:\\\\nummathproject\\\\Text\\\\frame55.jpg.txt', 'E:\\\\nummathproject\\\\Text\\\\frame56.jpg.txt', 'E:\\\\nummathproject\\\\Text\\\\frame57.jpg.txt', 'E:\\\\nummathproject\\\\Text\\\\frame58.jpg.txt', 'E:\\\\nummathproject\\\\Text\\\\frame59.jpg.txt', 'E:\\\\nummathproject\\\\Text\\\\frame6.jpg.txt', 'E:\\\\nummathproject\\\\Text\\\\frame60.jpg.txt', 'E:\\\\nummathproject\\\\Text\\\\frame61.jpg.txt', 'E:\\\\nummathproject\\\\Text\\\\frame62.jpg.txt', 'E:\\\\nummathproject\\\\Text\\\\frame63.jpg.txt', 'E:\\\\nummathproject\\\\Text\\\\frame64.jpg.txt', 'E:\\\\nummathproject\\\\Text\\\\frame65.jpg.txt', 'E:\\\\nummathproject\\\\Text\\\\frame66.jpg.txt', 'E:\\\\nummathproject\\\\Text\\\\frame67.jpg.txt', 'E:\\\\nummathproject\\\\Text\\\\frame68.jpg.txt', 'E:\\\\nummathproject\\\\Text\\\\frame69.jpg.txt', 'E:\\\\nummathproject\\\\Text\\\\frame7.jpg.txt', 'E:\\\\nummathproject\\\\Text\\\\frame70.jpg.txt', 'E:\\\\nummathproject\\\\Text\\\\frame71.jpg.txt', 'E:\\\\nummathproject\\\\Text\\\\frame72.jpg.txt', 'E:\\\\nummathproject\\\\Text\\\\frame73.jpg.txt', 'E:\\\\nummathproject\\\\Text\\\\frame74.jpg.txt', 'E:\\\\nummathproject\\\\Text\\\\frame75.jpg.txt', 'E:\\\\nummathproject\\\\Text\\\\frame76.jpg.txt', 'E:\\\\nummathproject\\\\Text\\\\frame77.jpg.txt', 'E:\\\\nummathproject\\\\Text\\\\frame78.jpg.txt', 'E:\\\\nummathproject\\\\Text\\\\frame79.jpg.txt', 'E:\\\\nummathproject\\\\Text\\\\frame8.jpg.txt', 'E:\\\\nummathproject\\\\Text\\\\frame80.jpg.txt', 'E:\\\\nummathproject\\\\Text\\\\frame81.jpg.txt', 'E:\\\\nummathproject\\\\Text\\\\frame82.jpg.txt', 'E:\\\\nummathproject\\\\Text\\\\frame83.jpg.txt', 'E:\\\\nummathproject\\\\Text\\\\frame84.jpg.txt', 'E:\\\\nummathproject\\\\Text\\\\frame85.jpg.txt', 'E:\\\\nummathproject\\\\Text\\\\frame86.jpg.txt', 'E:\\\\nummathproject\\\\Text\\\\frame87.jpg.txt', 'E:\\\\nummathproject\\\\Text\\\\frame88.jpg.txt', 'E:\\\\nummathproject\\\\Text\\\\frame89.jpg.txt', 'E:\\\\nummathproject\\\\Text\\\\frame9.jpg.txt', 'E:\\\\nummathproject\\\\Text\\\\frame90.jpg.txt', 'E:\\\\nummathproject\\\\Text\\\\frame91.jpg.txt', 'E:\\\\nummathproject\\\\Text\\\\frame92.jpg.txt', 'E:\\\\nummathproject\\\\Text\\\\frame93.jpg.txt', 'E:\\\\nummathproject\\\\Text\\\\frame94.jpg.txt', 'E:\\\\nummathproject\\\\Text\\\\frame95.jpg.txt', 'E:\\\\nummathproject\\\\Text\\\\frame96.jpg.txt', 'E:\\\\nummathproject\\\\Text\\\\frame97.jpg.txt', 'E:\\\\nummathproject\\\\Text\\\\frame98.jpg.txt', 'E:\\\\nummathproject\\\\Text\\\\frame99.jpg.txt']\n"
     ]
    }
   ],
   "source": [
    "filenames = []\n",
    "def findtxt(path):\n",
    "    for file in os.listdir(path):\n",
    "        if '.txt' in file:\n",
    "            filenames.append(path+file)\n",
    "    return filenames\n",
    "location = \"E:\\\\nummathproject\\\\Text\\\\\"\n",
    "filenames = findtxt(location)\n",
    "print(filenames)"
   ]
  }
 ],
 "metadata": {
  "interpreter": {
   "hash": "2f9b242a49c95545759be9cb80e77552b393acc2272b9b47c840cae67a63de88"
  },
  "kernelspec": {
   "display_name": "Python 3.8.4 64-bit",
   "language": "python",
   "name": "python3"
  },
  "language_info": {
   "codemirror_mode": {
    "name": "ipython",
    "version": 3
   },
   "file_extension": ".py",
   "mimetype": "text/x-python",
   "name": "python",
   "nbconvert_exporter": "python",
   "pygments_lexer": "ipython3",
   "version": "3.8.4"
  },
  "orig_nbformat": 4
 },
 "nbformat": 4,
 "nbformat_minor": 2
}
